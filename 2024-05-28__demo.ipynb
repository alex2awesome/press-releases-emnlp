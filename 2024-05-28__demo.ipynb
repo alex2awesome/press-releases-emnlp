{
 "cells": [
  {
   "cell_type": "markdown",
   "id": "fe8bafcf-8e7c-425c-a624-a54cc46e6861",
   "metadata": {},
   "source": [
    "# In this demo, we walk through how to retrieve and use our data"
   ]
  },
  {
   "cell_type": "markdown",
   "id": "69ebacb1-3a56-4de9-a72b-42690fb441e9",
   "metadata": {},
   "source": [
    "As described in the paper, we discovered press release/article pairs through two primary directions: __forwards__ (i.e. crawling news articles and discovering hyperlinks to press releases) and __backwards__ (i.e. crawling press releases and querying a backlink service to discover news articles.) \n",
    "\n",
    "We show how to access the data collected from each direction now."
   ]
  },
  {
   "cell_type": "markdown",
   "id": "e200c4cb-419a-4cfe-a9f0-e0e19ac79a94",
   "metadata": {},
   "source": [
    "## Forwards Direction: Press Releases $\\rightarrow$ News Articles  (Backlinks)"
   ]
  },
  {
   "cell_type": "markdown",
   "id": "dc20e049-d5d4-4adc-af2f-ba74f6892526",
   "metadata": {},
   "source": [
    "The data for this direction is primarily stored in three files:\n",
    "\n",
    "They can be accessed from this [Google Drive Link](https://drive.google.com/drive/folders/11IpwmFKuFn7LryUHW1df1fcJ2RmFUub1?usp=drive_link).\n",
    "\n",
    "This part of the dataset is far more comprehensive, clean and balanced, so we recommend starting with it. The other half of the dataset (Backwards Direction) is a little less clean but has a lot more articles that could serve as background articles so it might be suited to a different set of tasks."
   ]
  },
  {
   "cell_type": "code",
   "execution_count": 64,
   "id": "c73b995f-81d0-4537-9ca5-d54258c4f50e",
   "metadata": {},
   "outputs": [
    {
     "data": {
      "application/vnd.jupyter.widget-view+json": {
       "model_id": "a841810f9f98449e9746a19daba8b70f",
       "version_major": 2,
       "version_minor": 0
      },
      "text/plain": [
       "Loading dataset from disk:   0%|          | 0/41 [00:00<?, ?it/s]"
      ]
     },
     "metadata": {},
     "output_type": "display_data"
    }
   ],
   "source": [
    "from datasets import load_from_disk\n",
    "import pandas as pd\n",
    "import numpy as np \n",
    "from tqdm.auto import tqdm\n",
    "data_dir = 'data'\n",
    "source_df = pd.read_json(f'{data_dir}/press_release_to_article_data/full-source-scored-data.jsonl.gz', lines=True, compression='gzip', nrows=5000)\n",
    "article_d = load_from_disk(f'{data_dir}/press_release_to_article_data/all-coref-resolved')"
   ]
  },
  {
   "cell_type": "code",
   "execution_count": 40,
   "id": "b2c8134b-4a2a-4959-996d-dac05d647a9e",
   "metadata": {},
   "outputs": [],
   "source": [
    "article_to_pr_mapper = pd.read_csv('data/press_release_to_article_data/article-to-pr-mapper.csv.gz', index_col=0)"
   ]
  },
  {
   "cell_type": "code",
   "execution_count": 49,
   "id": "fc278273-9061-4270-9530-7beef8c696e1",
   "metadata": {},
   "outputs": [
    {
     "name": "stdout",
     "output_type": "stream",
     "text": [
      "Number of news articles: 587464\n",
      "Number of press releases: 176777\n"
     ]
    }
   ],
   "source": [
    "print(f\"Number of news articles: {article_to_pr_mapper['URL'].drop_duplicates().shape[0]}\")\n",
    "print(f\"Number of press releases: {article_to_pr_mapper['Target URL'].drop_duplicates().shape[0]}\")"
   ]
  },
  {
   "cell_type": "code",
   "execution_count": 55,
   "id": "5c5d6067-9c5c-49c6-a94b-83782de291c5",
   "metadata": {},
   "outputs": [
    {
     "data": {
      "text/plain": [
       "company_name\n",
       "corporate                39823\n",
       "newscorp                 39391\n",
       "ice                      39382\n",
       "go_factset               38991\n",
       "usa_visa                 33739\n",
       "moodys                   25340\n",
       "mastercard               24385\n",
       "bhhs                     20043\n",
       "paramount                19533\n",
       "pfizer                   17191\n",
       "fisglobal                15572\n",
       "sec                      13812\n",
       "stories_starbucks        11429\n",
       "prnewswire               11256\n",
       "raymondjames             11079\n",
       "verizon                  10820\n",
       "progressive_mediaroom    10650\n",
       "blackrock                10592\n",
       "about_fb                  9912\n",
       "tesla                     9781\n",
       "Name: count, dtype: int64"
      ]
     },
     "execution_count": 55,
     "metadata": {},
     "output_type": "execute_result"
    }
   ],
   "source": [
    "article_to_pr_mapper['company_name'].value_counts().head(20)"
   ]
  },
  {
   "cell_type": "code",
   "execution_count": 60,
   "id": "f8b65a78-c9fe-408e-b070-ea4fdff47253",
   "metadata": {},
   "outputs": [
    {
     "data": {
      "text/plain": [
       "news_url_domain\n",
       "businessinsider      80606\n",
       "cbsnews              64546\n",
       "cnbc                 52562\n",
       "pbs                  44027\n",
       "fortune              43387\n",
       "wsj                  40784\n",
       "forbes               30708\n",
       "independent          22303\n",
       "ft                   21140\n",
       "propublica           18303\n",
       "nytimes              18038\n",
       "business-standard    15320\n",
       "progressive          10655\n",
       "prweb                10424\n",
       "cnn                   9799\n",
       "marketwatch           9526\n",
       "thestreet             9482\n",
       "washingtonpost        8472\n",
       "theguardian           7170\n",
       "patch                 7127\n",
       "Name: count, dtype: int64"
      ]
     },
     "execution_count": 60,
     "metadata": {},
     "output_type": "execute_result"
    }
   ],
   "source": [
    "article_to_pr_mapper['news_url_domain'].value_counts().head(20)"
   ]
  },
  {
   "cell_type": "markdown",
   "id": "1a1fe18d-4c79-4dbc-bd81-166b42b51e16",
   "metadata": {},
   "source": [
    "`article_d` is a large set of articles (in a `Huggingface Dataset` object) with metadata that we processed for each one:"
   ]
  },
  {
   "cell_type": "code",
   "execution_count": 66,
   "id": "ac6b6ba9-97ec-44a9-ac9f-fd7a247be1b2",
   "metadata": {},
   "outputs": [
    {
     "data": {
      "text/plain": [
       "Dataset({\n",
       "    features: ['article_url', 'target_timestamp_key', 'target_timestamp', 'sort_criteria', 'wayback_url', 'wayback_timestamp', 'method', 'links', 'article_text', 'word_lists', 'sent_lists', 'best_class', 'coref_resolved_sents'],\n",
       "    num_rows: 496380\n",
       "})"
      ]
     },
     "execution_count": 66,
     "metadata": {},
     "output_type": "execute_result"
    }
   ],
   "source": [
    "article_d"
   ]
  },
  {
   "cell_type": "markdown",
   "id": "8966c494-bc6c-4c2e-ba39-64bea2cf2588",
   "metadata": {},
   "source": [
    "A central goal of the paper was to examine the sources used by human journalists and assess how LLMs might select these sources:\n",
    "\n",
    "![alt text](images/model-criticism-emnlp-paper.png \"Title\") \n",
    "\n",
    "Now, let's examine a single article and how we can look at the sources inside this article:"
   ]
  },
  {
   "cell_type": "code",
   "execution_count": 67,
   "id": "d972d02d-6e86-48a6-a3d9-9a16f788e361",
   "metadata": {},
   "outputs": [
    {
     "data": {
      "application/vnd.jupyter.widget-view+json": {
       "model_id": "e095054bdbb34c35b0245bb3a1694ed7",
       "version_major": 2,
       "version_minor": 0
      },
      "text/plain": [
       "Filter (num_proc=10):   0%|          | 0/496380 [00:00<?, ? examples/s]"
      ]
     },
     "metadata": {},
     "output_type": "display_data"
    }
   ],
   "source": [
    "a_urls = set(source_df['article_url'])\n",
    "filtered_article_d = article_d.filter(lambda x: x['article_url'] in a_urls, num_proc=10)\n",
    "filtered_article_df = filtered_article_d.to_pandas()"
   ]
  },
  {
   "cell_type": "markdown",
   "id": "2ea7632d-458f-4330-91e1-c4792bdef925",
   "metadata": {},
   "source": [
    "Here, we filter down to articles with known quotes:"
   ]
  },
  {
   "cell_type": "code",
   "execution_count": 71,
   "id": "60e22d78-0699-4e0a-ab80-e2ff1562154e",
   "metadata": {
    "scrolled": true
   },
   "outputs": [],
   "source": [
    "disallowed_quote_types = set(['Other', 'Background/Narrative', 'No Quote'])\n",
    "\n",
    "sentences_with_quotes = (\n",
    "    filtered_article_d\n",
    "         .to_pandas()\n",
    "         .merge(source_df, on='article_url')\n",
    "         [['article_url', 'attributions', 'quote_type', 'sent_lists',]]\n",
    "         .explode(['attributions', 'quote_type', 'sent_lists'])\n",
    ")\n",
    "\n",
    "sentences_with_quotes = (\n",
    "    sentences_with_quotes\n",
    "        .assign(attributions=lambda df: \n",
    "             df.apply(lambda x: x['attributions'] if x['quote_type'] not in disallowed_quote_types else np.nan, axis=1)\n",
    "    )\n",
    ")"
   ]
  },
  {
   "cell_type": "markdown",
   "id": "845223a1-8445-42d0-bd12-c040e4953476",
   "metadata": {},
   "source": [
    "We examine a single article (we will show in later sections how to extract sources from this article)"
   ]
  },
  {
   "cell_type": "code",
   "execution_count": 73,
   "id": "643ccb6c-b88f-4e33-b7b0-b6e747323bec",
   "metadata": {},
   "outputs": [],
   "source": [
    "one_article = (\n",
    "    sentences_with_quotes\n",
    "         .loc[lambda df: df['article_url'] == df['article_url'].unique()[1]]\n",
    "        .reset_index(drop=True)\n",
    ")\n",
    "\n",
    "doc_str = one_article[['sent_lists', 'attributions']].to_csv(sep='\\t', index=False)\n",
    "json_str = one_article[['sent_lists', 'attributions']].to_json(lines=True, orient='records')"
   ]
  },
  {
   "cell_type": "code",
   "execution_count": 75,
   "id": "ff807477-2c2a-40fd-86df-245ae957a936",
   "metadata": {},
   "outputs": [
    {
     "data": {
      "text/html": [
       "<div>\n",
       "<style scoped>\n",
       "    .dataframe tbody tr th:only-of-type {\n",
       "        vertical-align: middle;\n",
       "    }\n",
       "\n",
       "    .dataframe tbody tr th {\n",
       "        vertical-align: top;\n",
       "    }\n",
       "\n",
       "    .dataframe thead th {\n",
       "        text-align: right;\n",
       "    }\n",
       "</style>\n",
       "<table border=\"1\" class=\"dataframe\">\n",
       "  <thead>\n",
       "    <tr style=\"text-align: right;\">\n",
       "      <th></th>\n",
       "      <th>sent_lists</th>\n",
       "      <th>attributions</th>\n",
       "    </tr>\n",
       "  </thead>\n",
       "  <tbody>\n",
       "    <tr>\n",
       "      <th>0</th>\n",
       "      <td>Based on a cohesive and committed philanthropi...</td>\n",
       "      <td>NaN</td>\n",
       "    </tr>\n",
       "    <tr>\n",
       "      <th>1</th>\n",
       "      <td>The Socrata Foundation will proactively suppor...</td>\n",
       "      <td>NaN</td>\n",
       "    </tr>\n",
       "    <tr>\n",
       "      <th>2</th>\n",
       "      <td>We're determined to support these organization...</td>\n",
       "      <td>Socrata Foundation</td>\n",
       "    </tr>\n",
       "    <tr>\n",
       "      <th>3</th>\n",
       "      <td>We believe that the innovative use of open dat...</td>\n",
       "      <td>Socrata Foundation</td>\n",
       "    </tr>\n",
       "    <tr>\n",
       "      <th>4</th>\n",
       "      <td>Adds Robert Runge, a member of Socrata's Board...</td>\n",
       "      <td>Robert Runge</td>\n",
       "    </tr>\n",
       "    <tr>\n",
       "      <th>5</th>\n",
       "      <td>Making Data-Driven Government in Detroit a Rea...</td>\n",
       "      <td>NaN</td>\n",
       "    </tr>\n",
       "    <tr>\n",
       "      <th>6</th>\n",
       "      <td>Detroit Mayor Mike Duggan wants to show reside...</td>\n",
       "      <td>NaN</td>\n",
       "    </tr>\n",
       "    <tr>\n",
       "      <th>7</th>\n",
       "      <td>That's why he turned to data-driven government...</td>\n",
       "      <td>Mike Duggan</td>\n",
       "    </tr>\n",
       "    <tr>\n",
       "      <th>8</th>\n",
       "      <td>Detroit knew that the transparency, accountabi...</td>\n",
       "      <td>Mike Duggan wants to show residents in his cit...</td>\n",
       "    </tr>\n",
       "    <tr>\n",
       "      <th>9</th>\n",
       "      <td>So we asked the Socrata Foundation to remove t...</td>\n",
       "      <td>Mike Duggan</td>\n",
       "    </tr>\n",
       "    <tr>\n",
       "      <th>10</th>\n",
       "      <td>Taking on Family Abuse and Violence The Socrat...</td>\n",
       "      <td>NaN</td>\n",
       "    </tr>\n",
       "    <tr>\n",
       "      <th>11</th>\n",
       "      <td>BMD's long-term ambition is to establish a nat...</td>\n",
       "      <td>NaN</td>\n",
       "    </tr>\n",
       "    <tr>\n",
       "      <th>12</th>\n",
       "      <td>In conjunction with SunGard Public Sector, a l...</td>\n",
       "      <td>NaN</td>\n",
       "    </tr>\n",
       "    <tr>\n",
       "      <th>13</th>\n",
       "      <td>According to its Founder, Susan Scrupski, BMD ...</td>\n",
       "      <td>Susan Scrupski</td>\n",
       "    </tr>\n",
       "    <tr>\n",
       "      <th>14</th>\n",
       "      <td>We believe access to open data will help deter...</td>\n",
       "      <td>Susan Scrupski</td>\n",
       "    </tr>\n",
       "    <tr>\n",
       "      <th>15</th>\n",
       "      <td>We have to end the tragedy of family abuse and...</td>\n",
       "      <td>Susan Scrupski</td>\n",
       "    </tr>\n",
       "    <tr>\n",
       "      <th>16</th>\n",
       "      <td>Protecting Tenants and Fighting Slumlords Look...</td>\n",
       "      <td>NaN</td>\n",
       "    </tr>\n",
       "    <tr>\n",
       "      <th>17</th>\n",
       "      <td>Heat Seek NYC provides unbiased evidence to ve...</td>\n",
       "      <td>NaN</td>\n",
       "    </tr>\n",
       "    <tr>\n",
       "      <th>18</th>\n",
       "      <td>The organization's affordable temperature sens...</td>\n",
       "      <td>NaN</td>\n",
       "    </tr>\n",
       "    <tr>\n",
       "      <th>19</th>\n",
       "      <td>Then the sensors talk to each other via mesh n...</td>\n",
       "      <td>NaN</td>\n",
       "    </tr>\n",
       "    <tr>\n",
       "      <th>20</th>\n",
       "      <td>Heat Seek NYC's powerful Web app integrates th...</td>\n",
       "      <td>NaN</td>\n",
       "    </tr>\n",
       "    <tr>\n",
       "      <th>21</th>\n",
       "      <td>This is all about gathering data and opening i...</td>\n",
       "      <td>William Jeffries</td>\n",
       "    </tr>\n",
       "    <tr>\n",
       "      <th>22</th>\n",
       "      <td>We're tracking the city's worst heating violat...</td>\n",
       "      <td>William Jeffries</td>\n",
       "    </tr>\n",
       "    <tr>\n",
       "      <th>23</th>\n",
       "      <td>Focusing on Affordable Housing Finally, the So...</td>\n",
       "      <td>NaN</td>\n",
       "    </tr>\n",
       "    <tr>\n",
       "      <th>24</th>\n",
       "      <td>The winner of this unique initiative receives ...</td>\n",
       "      <td>NaN</td>\n",
       "    </tr>\n",
       "    <tr>\n",
       "      <th>25</th>\n",
       "      <td>The first winner of Socrata's \"One Month to Ma...</td>\n",
       "      <td>NaN</td>\n",
       "    </tr>\n",
       "    <tr>\n",
       "      <th>26</th>\n",
       "      <td>ABOUT THE SOCRATA FOUNDATION In establishing t...</td>\n",
       "      <td>NaN</td>\n",
       "    </tr>\n",
       "    <tr>\n",
       "      <th>27</th>\n",
       "      <td>The Socrata Foundation will work with Socrata ...</td>\n",
       "      <td>NaN</td>\n",
       "    </tr>\n",
       "    <tr>\n",
       "      <th>28</th>\n",
       "      <td>ABOUT SOCRATA Socrata is the world leader in c...</td>\n",
       "      <td>NaN</td>\n",
       "    </tr>\n",
       "    <tr>\n",
       "      <th>29</th>\n",
       "      <td>Its innovative customers include the cities of...</td>\n",
       "      <td>NaN</td>\n",
       "    </tr>\n",
       "    <tr>\n",
       "      <th>30</th>\n",
       "      <td>Socrata's solutions - including the recently l...</td>\n",
       "      <td>NaN</td>\n",
       "    </tr>\n",
       "    <tr>\n",
       "      <th>31</th>\n",
       "      <td>Delivered as turnkey services, Socrata's techn...</td>\n",
       "      <td>NaN</td>\n",
       "    </tr>\n",
       "    <tr>\n",
       "      <th>32</th>\n",
       "      <td>Reach out to the author: contact and available...</td>\n",
       "      <td>NaN</td>\n",
       "    </tr>\n",
       "    <tr>\n",
       "      <th>33</th>\n",
       "      <td>Questions about your PRWeb account or interest...</td>\n",
       "      <td>NaN</td>\n",
       "    </tr>\n",
       "    <tr>\n",
       "      <th>34</th>\n",
       "      <td>Vocus, PRWeb, and Publicity Wire are trademark...</td>\n",
       "      <td>NaN</td>\n",
       "    </tr>\n",
       "  </tbody>\n",
       "</table>\n",
       "</div>"
      ],
      "text/plain": [
       "                                           sent_lists  \\\n",
       "0   Based on a cohesive and committed philanthropi...   \n",
       "1   The Socrata Foundation will proactively suppor...   \n",
       "2   We're determined to support these organization...   \n",
       "3   We believe that the innovative use of open dat...   \n",
       "4   Adds Robert Runge, a member of Socrata's Board...   \n",
       "5   Making Data-Driven Government in Detroit a Rea...   \n",
       "6   Detroit Mayor Mike Duggan wants to show reside...   \n",
       "7   That's why he turned to data-driven government...   \n",
       "8   Detroit knew that the transparency, accountabi...   \n",
       "9   So we asked the Socrata Foundation to remove t...   \n",
       "10  Taking on Family Abuse and Violence The Socrat...   \n",
       "11  BMD's long-term ambition is to establish a nat...   \n",
       "12  In conjunction with SunGard Public Sector, a l...   \n",
       "13  According to its Founder, Susan Scrupski, BMD ...   \n",
       "14  We believe access to open data will help deter...   \n",
       "15  We have to end the tragedy of family abuse and...   \n",
       "16  Protecting Tenants and Fighting Slumlords Look...   \n",
       "17  Heat Seek NYC provides unbiased evidence to ve...   \n",
       "18  The organization's affordable temperature sens...   \n",
       "19  Then the sensors talk to each other via mesh n...   \n",
       "20  Heat Seek NYC's powerful Web app integrates th...   \n",
       "21  This is all about gathering data and opening i...   \n",
       "22  We're tracking the city's worst heating violat...   \n",
       "23  Focusing on Affordable Housing Finally, the So...   \n",
       "24  The winner of this unique initiative receives ...   \n",
       "25  The first winner of Socrata's \"One Month to Ma...   \n",
       "26  ABOUT THE SOCRATA FOUNDATION In establishing t...   \n",
       "27  The Socrata Foundation will work with Socrata ...   \n",
       "28  ABOUT SOCRATA Socrata is the world leader in c...   \n",
       "29  Its innovative customers include the cities of...   \n",
       "30  Socrata's solutions - including the recently l...   \n",
       "31  Delivered as turnkey services, Socrata's techn...   \n",
       "32  Reach out to the author: contact and available...   \n",
       "33  Questions about your PRWeb account or interest...   \n",
       "34  Vocus, PRWeb, and Publicity Wire are trademark...   \n",
       "\n",
       "                                         attributions  \n",
       "0                                                 NaN  \n",
       "1                                                 NaN  \n",
       "2                                  Socrata Foundation  \n",
       "3                                  Socrata Foundation  \n",
       "4                                        Robert Runge  \n",
       "5                                                 NaN  \n",
       "6                                                 NaN  \n",
       "7                                         Mike Duggan  \n",
       "8   Mike Duggan wants to show residents in his cit...  \n",
       "9                                         Mike Duggan  \n",
       "10                                                NaN  \n",
       "11                                                NaN  \n",
       "12                                                NaN  \n",
       "13                                     Susan Scrupski  \n",
       "14                                     Susan Scrupski  \n",
       "15                                     Susan Scrupski  \n",
       "16                                                NaN  \n",
       "17                                                NaN  \n",
       "18                                                NaN  \n",
       "19                                                NaN  \n",
       "20                                                NaN  \n",
       "21                                   William Jeffries  \n",
       "22                                   William Jeffries  \n",
       "23                                                NaN  \n",
       "24                                                NaN  \n",
       "25                                                NaN  \n",
       "26                                                NaN  \n",
       "27                                                NaN  \n",
       "28                                                NaN  \n",
       "29                                                NaN  \n",
       "30                                                NaN  \n",
       "31                                                NaN  \n",
       "32                                                NaN  \n",
       "33                                                NaN  \n",
       "34                                                NaN  "
      ]
     },
     "execution_count": 75,
     "metadata": {},
     "output_type": "execute_result"
    }
   ],
   "source": [
    "one_article[['sent_lists', 'attributions']]"
   ]
  },
  {
   "cell_type": "markdown",
   "id": "2a37fe42-1a76-4809-9ef9-637496bd071b",
   "metadata": {},
   "source": [
    "## Forwards Direction: Press Releases $\\leftarrow$ News Articles (Hyperlinks)"
   ]
  },
  {
   "cell_type": "markdown",
   "id": "dcead243-0f38-4daa-b93a-ca96dcc5c58d",
   "metadata": {},
   "source": [
    "The data for this direction is primarily stored in a SQLite3 database: `data/article_to_press_release_data.db.tar.gz`. Please download it and run `tar -xvzf ...` to untar it.\n",
    "\n",
    "It can be accessed from this [Google Drive link](https://drive.google.com/drive/folders/1CmJkwpbV84pYaEMtNWhWkzG-B4_3hXR8?usp=sharing)."
   ]
  },
  {
   "cell_type": "code",
   "execution_count": 9,
   "id": "e55df71b-4373-4296-b63b-73084a5f0002",
   "metadata": {},
   "outputs": [],
   "source": [
    "import sqlite3\n",
    "import pandas as pd "
   ]
  },
  {
   "cell_type": "code",
   "execution_count": 7,
   "id": "7c78c5d0-45a3-42b5-8c39-a4a76240bad4",
   "metadata": {},
   "outputs": [],
   "source": [
    "con = sqlite3.connect('data/article_to_press_release_data.db')"
   ]
  },
  {
   "cell_type": "code",
   "execution_count": 10,
   "id": "20273fea-ea16-4729-abe7-341853cb2a77",
   "metadata": {},
   "outputs": [
    {
     "data": {
      "text/html": [
       "<div>\n",
       "<style scoped>\n",
       "    .dataframe tbody tr th:only-of-type {\n",
       "        vertical-align: middle;\n",
       "    }\n",
       "\n",
       "    .dataframe tbody tr th {\n",
       "        vertical-align: top;\n",
       "    }\n",
       "\n",
       "    .dataframe thead th {\n",
       "        text-align: right;\n",
       "    }\n",
       "</style>\n",
       "<table border=\"1\" class=\"dataframe\">\n",
       "  <thead>\n",
       "    <tr style=\"text-align: right;\">\n",
       "      <th></th>\n",
       "      <th>type</th>\n",
       "      <th>name</th>\n",
       "      <th>tbl_name</th>\n",
       "      <th>rootpage</th>\n",
       "      <th>sql</th>\n",
       "    </tr>\n",
       "  </thead>\n",
       "  <tbody>\n",
       "    <tr>\n",
       "      <th>0</th>\n",
       "      <td>table</td>\n",
       "      <td>article_map</td>\n",
       "      <td>article_map</td>\n",
       "      <td>2</td>\n",
       "      <td>CREATE TABLE \"article_map\" (\\n\"target_article_...</td>\n",
       "    </tr>\n",
       "    <tr>\n",
       "      <th>1</th>\n",
       "      <td>table</td>\n",
       "      <td>article_ents</td>\n",
       "      <td>article_ents</td>\n",
       "      <td>1580014</td>\n",
       "      <td>CREATE TABLE \"article_ents\" (\\n\"common_crawl_u...</td>\n",
       "    </tr>\n",
       "    <tr>\n",
       "      <th>2</th>\n",
       "      <td>table</td>\n",
       "      <td>article_to_href</td>\n",
       "      <td>article_to_href</td>\n",
       "      <td>1585745</td>\n",
       "      <td>CREATE TABLE \"article_to_href\" (\\n\"article_url...</td>\n",
       "    </tr>\n",
       "    <tr>\n",
       "      <th>3</th>\n",
       "      <td>table</td>\n",
       "      <td>article_data</td>\n",
       "      <td>article_data</td>\n",
       "      <td>1536716</td>\n",
       "      <td>CREATE TABLE \"article_data\" (\\n\"common_crawl_u...</td>\n",
       "    </tr>\n",
       "    <tr>\n",
       "      <th>4</th>\n",
       "      <td>table</td>\n",
       "      <td>press_release_data</td>\n",
       "      <td>press_release_data</td>\n",
       "      <td>1537952</td>\n",
       "      <td>CREATE TABLE \"press_release_data\" (\\n\"article_...</td>\n",
       "    </tr>\n",
       "    <tr>\n",
       "      <th>5</th>\n",
       "      <td>table</td>\n",
       "      <td>more_article_data</td>\n",
       "      <td>more_article_data</td>\n",
       "      <td>3136060</td>\n",
       "      <td>CREATE TABLE \"more_article_data\" (\\n\"article_u...</td>\n",
       "    </tr>\n",
       "  </tbody>\n",
       "</table>\n",
       "</div>"
      ],
      "text/plain": [
       "    type                name            tbl_name  rootpage  \\\n",
       "0  table         article_map         article_map         2   \n",
       "1  table        article_ents        article_ents   1580014   \n",
       "2  table     article_to_href     article_to_href   1585745   \n",
       "3  table        article_data        article_data   1536716   \n",
       "4  table  press_release_data  press_release_data   1537952   \n",
       "5  table   more_article_data   more_article_data   3136060   \n",
       "\n",
       "                                                 sql  \n",
       "0  CREATE TABLE \"article_map\" (\\n\"target_article_...  \n",
       "1  CREATE TABLE \"article_ents\" (\\n\"common_crawl_u...  \n",
       "2  CREATE TABLE \"article_to_href\" (\\n\"article_url...  \n",
       "3  CREATE TABLE \"article_data\" (\\n\"common_crawl_u...  \n",
       "4  CREATE TABLE \"press_release_data\" (\\n\"article_...  \n",
       "5  CREATE TABLE \"more_article_data\" (\\n\"article_u...  "
      ]
     },
     "execution_count": 10,
     "metadata": {},
     "output_type": "execute_result"
    }
   ],
   "source": [
    "all_tables = \"\"\"SELECT * FROM sqlite_master WHERE type='table';\"\"\"\n",
    "pd.read_sql(all_tables, con=con)"
   ]
  },
  {
   "cell_type": "markdown",
   "id": "1cdee5e4-7d93-4c9e-8dd5-6d6176abaeb6",
   "metadata": {},
   "source": [
    "`article_data` is a huge table full of news articles and all kinds of metadata that we extract from the HTML:"
   ]
  },
  {
   "cell_type": "code",
   "execution_count": 21,
   "id": "86083356-318e-4429-8d29-0f3496edd7b1",
   "metadata": {},
   "outputs": [
    {
     "data": {
      "text/html": [
       "<div>\n",
       "<style scoped>\n",
       "    .dataframe tbody tr th:only-of-type {\n",
       "        vertical-align: middle;\n",
       "    }\n",
       "\n",
       "    .dataframe tbody tr th {\n",
       "        vertical-align: top;\n",
       "    }\n",
       "\n",
       "    .dataframe thead th {\n",
       "        text-align: right;\n",
       "    }\n",
       "</style>\n",
       "<table border=\"1\" class=\"dataframe\">\n",
       "  <thead>\n",
       "    <tr style=\"text-align: right;\">\n",
       "      <th></th>\n",
       "      <th>COUNT(1)</th>\n",
       "    </tr>\n",
       "  </thead>\n",
       "  <tbody>\n",
       "    <tr>\n",
       "      <th>0</th>\n",
       "      <td>938880</td>\n",
       "    </tr>\n",
       "  </tbody>\n",
       "</table>\n",
       "</div>"
      ],
      "text/plain": [
       "   COUNT(1)\n",
       "0    938880"
      ]
     },
     "execution_count": 21,
     "metadata": {},
     "output_type": "execute_result"
    }
   ],
   "source": [
    "pd.read_sql(\"SELECT COUNT(1) from article_data\", con=con)"
   ]
  },
  {
   "cell_type": "markdown",
   "id": "07e5ec13-c3b8-447f-907e-79b850d68a02",
   "metadata": {},
   "source": [
    "Many of these articles are background articles, related articles, or articles that do not link directly to press releases. By setting the flag `is_press_release_article = 1`, you will find articles with hyperlinks to known press release websites:"
   ]
  },
  {
   "cell_type": "code",
   "execution_count": 20,
   "id": "93e09407-5af3-4b41-ae70-cea56c4ba36e",
   "metadata": {},
   "outputs": [
    {
     "data": {
      "text/html": [
       "<div>\n",
       "<style scoped>\n",
       "    .dataframe tbody tr th:only-of-type {\n",
       "        vertical-align: middle;\n",
       "    }\n",
       "\n",
       "    .dataframe tbody tr th {\n",
       "        vertical-align: top;\n",
       "    }\n",
       "\n",
       "    .dataframe thead th {\n",
       "        text-align: right;\n",
       "    }\n",
       "</style>\n",
       "<table border=\"1\" class=\"dataframe\">\n",
       "  <thead>\n",
       "    <tr style=\"text-align: right;\">\n",
       "      <th></th>\n",
       "      <th>canonical_domain</th>\n",
       "      <th>canonical_timestamp</th>\n",
       "      <th>article_text</th>\n",
       "    </tr>\n",
       "  </thead>\n",
       "  <tbody>\n",
       "    <tr>\n",
       "      <th>0</th>\n",
       "      <td>https://www.washingtonpost.com/technology/2022...</td>\n",
       "      <td>2022-07-29 11:00:40.529000+00:00</td>\n",
       "      <td>Democracy Dies in Darkness Innovations Slowly ...</td>\n",
       "    </tr>\n",
       "    <tr>\n",
       "      <th>1</th>\n",
       "      <td>https://www.washingtonpost.com/business/2021/0...</td>\n",
       "      <td>2021-08-20 11:00:00.084000+00:00</td>\n",
       "      <td>Democracy Dies in Darkness Business Booming bu...</td>\n",
       "    </tr>\n",
       "    <tr>\n",
       "      <th>2</th>\n",
       "      <td>https://www.washingtonpost.com/business/techno...</td>\n",
       "      <td>2012-10-16 04:44:41+00:00</td>\n",
       "      <td>Subscribe  Account  Profile  Newsletters &amp;amp...</td>\n",
       "    </tr>\n",
       "    <tr>\n",
       "      <th>3</th>\n",
       "      <td>https://www.washingtonpost.com/business/techno...</td>\n",
       "      <td>2013-10-28 11:26:01+00:00</td>\n",
       "      <td>Subscribe  Account  Profile  Newsletters &amp;amp...</td>\n",
       "    </tr>\n",
       "    <tr>\n",
       "      <th>4</th>\n",
       "      <td>https://www.washingtonpost.com/business/techno...</td>\n",
       "      <td>2012-02-04 02:57:17+00:00</td>\n",
       "      <td>var siteContext = '/rw/sites/twpweb', sectionC...</td>\n",
       "    </tr>\n",
       "  </tbody>\n",
       "</table>\n",
       "</div>"
      ],
      "text/plain": [
       "                                    canonical_domain  \\\n",
       "0  https://www.washingtonpost.com/technology/2022...   \n",
       "1  https://www.washingtonpost.com/business/2021/0...   \n",
       "2  https://www.washingtonpost.com/business/techno...   \n",
       "3  https://www.washingtonpost.com/business/techno...   \n",
       "4  https://www.washingtonpost.com/business/techno...   \n",
       "\n",
       "                canonical_timestamp  \\\n",
       "0  2022-07-29 11:00:40.529000+00:00   \n",
       "1  2021-08-20 11:00:00.084000+00:00   \n",
       "2         2012-10-16 04:44:41+00:00   \n",
       "3         2013-10-28 11:26:01+00:00   \n",
       "4         2012-02-04 02:57:17+00:00   \n",
       "\n",
       "                                        article_text  \n",
       "0  Democracy Dies in Darkness Innovations Slowly ...  \n",
       "1  Democracy Dies in Darkness Business Booming bu...  \n",
       "2   Subscribe  Account  Profile  Newsletters &amp...  \n",
       "3   Subscribe  Account  Profile  Newsletters &amp...  \n",
       "4  var siteContext = '/rw/sites/twpweb', sectionC...  "
      ]
     },
     "execution_count": 20,
     "metadata": {},
     "output_type": "execute_result"
    }
   ],
   "source": [
    "pd.read_sql(\"SELECT canonical_domain, canonical_timestamp, article_text from article_data where is_press_release_article = 1 limit 5\", con=con)"
   ]
  },
  {
   "cell_type": "markdown",
   "id": "965f2f65-f8db-42de-bb57-d1e413b47955",
   "metadata": {},
   "source": [
    "`press_release_data` contains the text of press releases"
   ]
  },
  {
   "cell_type": "code",
   "execution_count": 36,
   "id": "ca3dcf13-6a30-49fd-9821-95bd897cf560",
   "metadata": {},
   "outputs": [
    {
     "data": {
      "text/html": [
       "<div>\n",
       "<style scoped>\n",
       "    .dataframe tbody tr th:only-of-type {\n",
       "        vertical-align: middle;\n",
       "    }\n",
       "\n",
       "    .dataframe tbody tr th {\n",
       "        vertical-align: top;\n",
       "    }\n",
       "\n",
       "    .dataframe thead th {\n",
       "        text-align: right;\n",
       "    }\n",
       "</style>\n",
       "<table border=\"1\" class=\"dataframe\">\n",
       "  <thead>\n",
       "    <tr style=\"text-align: right;\">\n",
       "      <th></th>\n",
       "      <th>COUNT(1)</th>\n",
       "    </tr>\n",
       "  </thead>\n",
       "  <tbody>\n",
       "    <tr>\n",
       "      <th>0</th>\n",
       "      <td>75528</td>\n",
       "    </tr>\n",
       "  </tbody>\n",
       "</table>\n",
       "</div>"
      ],
      "text/plain": [
       "   COUNT(1)\n",
       "0     75528"
      ]
     },
     "execution_count": 36,
     "metadata": {},
     "output_type": "execute_result"
    }
   ],
   "source": [
    "pd.read_sql(\"SELECT COUNT(1) from press_release_data\", con=con)"
   ]
  },
  {
   "cell_type": "code",
   "execution_count": 28,
   "id": "8b0f24a4-c98e-4060-ad85-64c4c3760c94",
   "metadata": {},
   "outputs": [
    {
     "data": {
      "text/html": [
       "<div>\n",
       "<style scoped>\n",
       "    .dataframe tbody tr th:only-of-type {\n",
       "        vertical-align: middle;\n",
       "    }\n",
       "\n",
       "    .dataframe tbody tr th {\n",
       "        vertical-align: top;\n",
       "    }\n",
       "\n",
       "    .dataframe thead th {\n",
       "        text-align: right;\n",
       "    }\n",
       "</style>\n",
       "<table border=\"1\" class=\"dataframe\">\n",
       "  <thead>\n",
       "    <tr style=\"text-align: right;\">\n",
       "      <th></th>\n",
       "      <th>article_url</th>\n",
       "      <th>target_timestamp</th>\n",
       "      <th>data</th>\n",
       "    </tr>\n",
       "  </thead>\n",
       "  <tbody>\n",
       "    <tr>\n",
       "      <th>53</th>\n",
       "      <td>http://www.globenewswire.com/newsroom/prs/?pkg...</td>\n",
       "      <td>2013-01-03 20:15:00+00:00</td>\n",
       "      <td>\\nWe will keep fighting for all libraries -  s...</td>\n",
       "    </tr>\n",
       "    <tr>\n",
       "      <th>55</th>\n",
       "      <td>https://www.globenewswire.com/NewsRoom/Attachm...</td>\n",
       "      <td>2018-01-03 21:57:00+00:00</td>\n",
       "      <td>\\nEnglish \\nFrançais \\nRegister \\nSign In \\nAb...</td>\n",
       "    </tr>\n",
       "    <tr>\n",
       "      <th>26</th>\n",
       "      <td>https://www.globenewswire.com/Tracker?data=7zN...</td>\n",
       "      <td>2018-03-22 10:45:00+00:00</td>\n",
       "      <td>\\nEnglish \\nFrançais \\nRegister \\nSign In \\nTh...</td>\n",
       "    </tr>\n",
       "    <tr>\n",
       "      <th>29</th>\n",
       "      <td>https://www.globenewswire.com/NewsRoom/Attachm...</td>\n",
       "      <td>2018-03-22 10:45:00+00:00</td>\n",
       "      <td>\\nEnglish \\nFrançais \\nRegister \\nSign In \\nAb...</td>\n",
       "    </tr>\n",
       "    <tr>\n",
       "      <th>49</th>\n",
       "      <td>http://www.globenewswire.com/newsroom/ctr?d=10...</td>\n",
       "      <td>2013-01-03 20:15:00+00:00</td>\n",
       "      <td>\\nEasily Send &amp; Share Press Releases \\n(800) 3...</td>\n",
       "    </tr>\n",
       "  </tbody>\n",
       "</table>\n",
       "</div>"
      ],
      "text/plain": [
       "                                          article_url  \\\n",
       "53  http://www.globenewswire.com/newsroom/prs/?pkg...   \n",
       "55  https://www.globenewswire.com/NewsRoom/Attachm...   \n",
       "26  https://www.globenewswire.com/Tracker?data=7zN...   \n",
       "29  https://www.globenewswire.com/NewsRoom/Attachm...   \n",
       "49  http://www.globenewswire.com/newsroom/ctr?d=10...   \n",
       "\n",
       "             target_timestamp  \\\n",
       "53  2013-01-03 20:15:00+00:00   \n",
       "55  2018-01-03 21:57:00+00:00   \n",
       "26  2018-03-22 10:45:00+00:00   \n",
       "29  2018-03-22 10:45:00+00:00   \n",
       "49  2013-01-03 20:15:00+00:00   \n",
       "\n",
       "                                                 data  \n",
       "53  \\nWe will keep fighting for all libraries -  s...  \n",
       "55  \\nEnglish \\nFrançais \\nRegister \\nSign In \\nAb...  \n",
       "26  \\nEnglish \\nFrançais \\nRegister \\nSign In \\nTh...  \n",
       "29  \\nEnglish \\nFrançais \\nRegister \\nSign In \\nAb...  \n",
       "49  \\nEasily Send & Share Press Releases \\n(800) 3...  "
      ]
     },
     "execution_count": 28,
     "metadata": {},
     "output_type": "execute_result"
    }
   ],
   "source": [
    "pd.read_sql(\"SELECT article_url, target_timestamp, data from press_release_data limit 100\", con=con).drop_duplicates('data').sample(5)"
   ]
  },
  {
   "cell_type": "markdown",
   "id": "084038bd-d12e-4548-924d-0750fc21063c",
   "metadata": {},
   "source": [
    "The `article_to_href` table contains the mapping between articles and hyperlinks. There is a flag, there, that notes whether the hyperlink is from a known press release website:"
   ]
  },
  {
   "cell_type": "code",
   "execution_count": 27,
   "id": "8398f935-e8bb-4a00-a1a7-e906906f3226",
   "metadata": {},
   "outputs": [
    {
     "data": {
      "text/html": [
       "<div>\n",
       "<style scoped>\n",
       "    .dataframe tbody tr th:only-of-type {\n",
       "        vertical-align: middle;\n",
       "    }\n",
       "\n",
       "    .dataframe tbody tr th {\n",
       "        vertical-align: top;\n",
       "    }\n",
       "\n",
       "    .dataframe thead th {\n",
       "        text-align: right;\n",
       "    }\n",
       "</style>\n",
       "<table border=\"1\" class=\"dataframe\">\n",
       "  <thead>\n",
       "    <tr style=\"text-align: right;\">\n",
       "      <th></th>\n",
       "      <th>article_url</th>\n",
       "      <th>href</th>\n",
       "      <th>text</th>\n",
       "      <th>char_start_idx</th>\n",
       "      <th>char_end_idx</th>\n",
       "      <th>is_press_release</th>\n",
       "      <th>source</th>\n",
       "    </tr>\n",
       "  </thead>\n",
       "  <tbody>\n",
       "    <tr>\n",
       "      <th>0</th>\n",
       "      <td>com,washingtonpost)/technology/2022/07/29/com,...</td>\n",
       "      <td>https://news.mit.edu/2021/fiber-battery-longes...</td>\n",
       "      <td>batteries</td>\n",
       "      <td>1393</td>\n",
       "      <td>1404</td>\n",
       "      <td>1</td>\n",
       "      <td>../data/open-sourced</td>\n",
       "    </tr>\n",
       "    <tr>\n",
       "      <th>1</th>\n",
       "      <td>com,washingtonpost)/technology/2022/07/29/com,...</td>\n",
       "      <td>https://sam.gov/opp/8414c81ebfd445a8a491e91a7e...</td>\n",
       "      <td>announced</td>\n",
       "      <td>1562</td>\n",
       "      <td>1573</td>\n",
       "      <td>1</td>\n",
       "      <td>../data/open-sourced</td>\n",
       "    </tr>\n",
       "    <tr>\n",
       "      <th>2</th>\n",
       "      <td>com,washingtonpost)/business/2021/08/20/com,wa...</td>\n",
       "      <td>https://www.bls.gov/news.release/cesan.nr0.htm</td>\n",
       "      <td>spent $4,643</td>\n",
       "      <td>8839</td>\n",
       "      <td>8853</td>\n",
       "      <td>1</td>\n",
       "      <td>../data/open-sourced</td>\n",
       "    </tr>\n",
       "    <tr>\n",
       "      <th>3</th>\n",
       "      <td>com,washingtonpost)/business/economy/federal-r...</td>\n",
       "      <td>http://www.cafepress.com/washingtonpost</td>\n",
       "      <td>Post Store</td>\n",
       "      <td>3502</td>\n",
       "      <td>3514</td>\n",
       "      <td>1</td>\n",
       "      <td>../data/open-sourced</td>\n",
       "    </tr>\n",
       "    <tr>\n",
       "      <th>4</th>\n",
       "      <td>com,washingtonpost)/business/economy/federal-r...</td>\n",
       "      <td>http://www.expressnightout.com</td>\n",
       "      <td>Express</td>\n",
       "      <td>3862</td>\n",
       "      <td>3871</td>\n",
       "      <td>1</td>\n",
       "      <td>../data/open-sourced</td>\n",
       "    </tr>\n",
       "  </tbody>\n",
       "</table>\n",
       "</div>"
      ],
      "text/plain": [
       "                                         article_url  \\\n",
       "0  com,washingtonpost)/technology/2022/07/29/com,...   \n",
       "1  com,washingtonpost)/technology/2022/07/29/com,...   \n",
       "2  com,washingtonpost)/business/2021/08/20/com,wa...   \n",
       "3  com,washingtonpost)/business/economy/federal-r...   \n",
       "4  com,washingtonpost)/business/economy/federal-r...   \n",
       "\n",
       "                                                href            text  \\\n",
       "0  https://news.mit.edu/2021/fiber-battery-longes...      batteries    \n",
       "1  https://sam.gov/opp/8414c81ebfd445a8a491e91a7e...      announced    \n",
       "2     https://www.bls.gov/news.release/cesan.nr0.htm   spent $4,643    \n",
       "3            http://www.cafepress.com/washingtonpost     Post Store    \n",
       "4                     http://www.expressnightout.com        Express    \n",
       "\n",
       "   char_start_idx  char_end_idx  is_press_release                source  \n",
       "0            1393          1404                 1  ../data/open-sourced  \n",
       "1            1562          1573                 1  ../data/open-sourced  \n",
       "2            8839          8853                 1  ../data/open-sourced  \n",
       "3            3502          3514                 1  ../data/open-sourced  \n",
       "4            3862          3871                 1  ../data/open-sourced  "
      ]
     },
     "execution_count": 27,
     "metadata": {},
     "output_type": "execute_result"
    }
   ],
   "source": [
    "pd.read_sql(\"SELECT * from article_to_href where is_press_release = 1 limit 5\", con=con)"
   ]
  },
  {
   "cell_type": "markdown",
   "id": "f2d48a58-aa5f-4b83-bfd8-97f2fa1305d9",
   "metadata": {},
   "source": [
    "You might try merging them like this:"
   ]
  },
  {
   "cell_type": "code",
   "execution_count": 34,
   "id": "82c32f51-6573-4a1e-bc6b-c2f46be25d5e",
   "metadata": {},
   "outputs": [
    {
     "data": {
      "text/html": [
       "<div>\n",
       "<style scoped>\n",
       "    .dataframe tbody tr th:only-of-type {\n",
       "        vertical-align: middle;\n",
       "    }\n",
       "\n",
       "    .dataframe tbody tr th {\n",
       "        vertical-align: top;\n",
       "    }\n",
       "\n",
       "    .dataframe thead th {\n",
       "        text-align: right;\n",
       "    }\n",
       "</style>\n",
       "<table border=\"1\" class=\"dataframe\">\n",
       "  <thead>\n",
       "    <tr style=\"text-align: right;\">\n",
       "      <th></th>\n",
       "      <th>news_article_text</th>\n",
       "      <th>press_release_text</th>\n",
       "    </tr>\n",
       "  </thead>\n",
       "  <tbody>\n",
       "    <tr>\n",
       "      <th>0</th>\n",
       "      <td>Democracy Dies in Darkness Innovations Slowly ...</td>\n",
       "      <td>\\nSkip to content ↓ \\nMassachusetts Institute ...</td>\n",
       "    </tr>\n",
       "    <tr>\n",
       "      <th>1</th>\n",
       "      <td>Democracy Dies in Darkness Innovations Slowly ...</td>\n",
       "      <td>\\n</td>\n",
       "    </tr>\n",
       "    <tr>\n",
       "      <th>2</th>\n",
       "      <td>Democracy Dies in Darkness Business Booming bu...</td>\n",
       "      <td>\\nSkip to Content \\nUS Department of Labor \\nA...</td>\n",
       "    </tr>\n",
       "    <tr>\n",
       "      <th>3</th>\n",
       "      <td>Real Estate  Rentals  Cars  Today's Paper  Go...</td>\n",
       "      <td>\\nCart &amp; Checkout \\nHelp \\nOrder Status \\nShop...</td>\n",
       "    </tr>\n",
       "    <tr>\n",
       "      <th>4</th>\n",
       "      <td>Real Estate  Rentals  Cars  Today's Paper  Go...</td>\n",
       "      <td>\\n504 Gateway Time-out \\nnginx/1.19.5 \\n</td>\n",
       "    </tr>\n",
       "    <tr>\n",
       "      <th>5</th>\n",
       "      <td>Real Estate  Rentals  Cars  Today's Paper  Go...</td>\n",
       "      <td>\\nCart &amp; Checkout \\nHelp \\nOrder Status \\nShop...</td>\n",
       "    </tr>\n",
       "    <tr>\n",
       "      <th>6</th>\n",
       "      <td>Real Estate  Rentals  Cars  Today's Paper  Go...</td>\n",
       "      <td>\\n504 Gateway Time-out \\nnginx/1.19.5 \\n</td>\n",
       "    </tr>\n",
       "    <tr>\n",
       "      <th>7</th>\n",
       "      <td>Real Estate  Rentals  Cars  Today's Paper  Go...</td>\n",
       "      <td>\\nCart &amp; Checkout \\nHelp \\nOrder Status \\nShop...</td>\n",
       "    </tr>\n",
       "    <tr>\n",
       "      <th>8</th>\n",
       "      <td>Real Estate  Rentals  Cars  Today's Paper  Go...</td>\n",
       "      <td>\\n504 Gateway Time-out \\nnginx/1.19.5 \\n</td>\n",
       "    </tr>\n",
       "    <tr>\n",
       "      <th>9</th>\n",
       "      <td>Real Estate  Rentals  Cars  Today's Paper  Go...</td>\n",
       "      <td>\\nCart &amp; Checkout \\nHelp \\nOrder Status \\nShop...</td>\n",
       "    </tr>\n",
       "  </tbody>\n",
       "</table>\n",
       "</div>"
      ],
      "text/plain": [
       "                                   news_article_text  \\\n",
       "0  Democracy Dies in Darkness Innovations Slowly ...   \n",
       "1  Democracy Dies in Darkness Innovations Slowly ...   \n",
       "2  Democracy Dies in Darkness Business Booming bu...   \n",
       "3   Real Estate  Rentals  Cars  Today's Paper  Go...   \n",
       "4   Real Estate  Rentals  Cars  Today's Paper  Go...   \n",
       "5   Real Estate  Rentals  Cars  Today's Paper  Go...   \n",
       "6   Real Estate  Rentals  Cars  Today's Paper  Go...   \n",
       "7   Real Estate  Rentals  Cars  Today's Paper  Go...   \n",
       "8   Real Estate  Rentals  Cars  Today's Paper  Go...   \n",
       "9   Real Estate  Rentals  Cars  Today's Paper  Go...   \n",
       "\n",
       "                                  press_release_text  \n",
       "0  \\nSkip to content ↓ \\nMassachusetts Institute ...  \n",
       "1                                                 \\n  \n",
       "2  \\nSkip to Content \\nUS Department of Labor \\nA...  \n",
       "3  \\nCart & Checkout \\nHelp \\nOrder Status \\nShop...  \n",
       "4           \\n504 Gateway Time-out \\nnginx/1.19.5 \\n  \n",
       "5  \\nCart & Checkout \\nHelp \\nOrder Status \\nShop...  \n",
       "6           \\n504 Gateway Time-out \\nnginx/1.19.5 \\n  \n",
       "7  \\nCart & Checkout \\nHelp \\nOrder Status \\nShop...  \n",
       "8           \\n504 Gateway Time-out \\nnginx/1.19.5 \\n  \n",
       "9  \\nCart & Checkout \\nHelp \\nOrder Status \\nShop...  "
      ]
     },
     "execution_count": 34,
     "metadata": {},
     "output_type": "execute_result"
    }
   ],
   "source": [
    "pd.read_sql(\"\"\"\n",
    "    SELECT a.article_text as news_article_text, p.data as press_release_text\n",
    "    FROM article_data a \n",
    "    JOIN article_to_href h ON h.article_url = a.common_crawl_url\n",
    "    JOIN press_release_data p ON h.href = p.article_url\n",
    "    LIMIT 10\n",
    "\"\"\", con=con)"
   ]
  },
  {
   "cell_type": "markdown",
   "id": "6677c864-4dda-4789-b0d7-cffaba8ebdc1",
   "metadata": {},
   "source": [
    "# Finding Contrasting Press Releases"
   ]
  },
  {
   "cell_type": "markdown",
   "id": "733c8bb0-0f30-4ff0-9ff0-d89589d12d8d",
   "metadata": {},
   "source": [
    "In our paper, we described a method to find news articles that provided \"critical coverage\" of press releases. This method used aggregated sentence-level NLI scores on the document level."
   ]
  },
  {
   "cell_type": "markdown",
   "id": "a25567c0-ed29-412a-aeed-aede75a3c2e3",
   "metadata": {},
   "source": [
    "![alt text](images/doc-level-nli.png \"Title\")"
   ]
  },
  {
   "cell_type": "markdown",
   "id": "2f57c2e8-013c-4e8e-9c0b-cb011a87f5d1",
   "metadata": {},
   "source": [
    "for more information, see `src/assess_factual_consistency.py`. However, we do recommend taking a different, more modern approach, possibly one that utilizes LLMs to distill a BERT-based classification model."
   ]
  },
  {
   "cell_type": "markdown",
   "id": "fe0757f4-24f7-404e-8078-d4c5c0a31374",
   "metadata": {},
   "source": [
    "# Extracting Sources"
   ]
  },
  {
   "cell_type": "markdown",
   "id": "3e7462f6-678e-4cab-89f6-dde039a4e314",
   "metadata": {},
   "source": [
    "We extract sources in human-written news articles by running llama3.1. You can test locally using Ollama: https://ollama.com/. Follow the link to install the program.\n",
    "\n",
    "This can be useful for trying things out before we work out compute access.\n",
    "\n",
    "Run this in your terminal:\n",
    "\n",
    "`ollama run llama3`\n",
    "\n",
    "Even llama3 8b is pretty powerful. Llama 70b is better, but that may not run on your local computer."
   ]
  },
  {
   "cell_type": "code",
   "execution_count": 111,
   "id": "a5141b2f-3912-418c-800e-f7ed290a450a",
   "metadata": {},
   "outputs": [],
   "source": [
    "import requests\n",
    "import pyperclip"
   ]
  },
  {
   "cell_type": "code",
   "execution_count": null,
   "id": "4daa3d76-9fc8-4483-b542-c8844b2a33b9",
   "metadata": {},
   "outputs": [],
   "source": [
    "pyperclip.copy(doc_str)\n",
    "pyperclip.copy(json_str)"
   ]
  },
  {
   "cell_type": "code",
   "execution_count": 105,
   "id": "53c3a43e-c0a0-4e25-a048-2459cf4dbd31",
   "metadata": {},
   "outputs": [],
   "source": [
    "r = requests.post(\n",
    "    'http://localhost:11434/api/generate', \n",
    "    json = {\n",
    "        \"model\": \"llama3\",\n",
    "        \"prompt\":f\"\"\"\n",
    "            Here is a news article, with each sentence annotated according to the source of it's information:\n",
    "            ```\n",
    "            {json_str}\n",
    "            ```\n",
    "\n",
    "            Please summarize each of our source annotations. Tell me in one paragraph per source: (1) who the source is (2) what informational content they provide to the article. \n",
    "            Only rely on the annotations I have provided, don't identify additional sources.\n",
    "        \"\"\",\n",
    "        \"stream\": False\n",
    "})"
   ]
  },
  {
   "cell_type": "code",
   "execution_count": 106,
   "id": "badef086-20f0-4aa9-9769-7c852ff9b7ea",
   "metadata": {},
   "outputs": [
    {
     "name": "stdout",
     "output_type": "stream",
     "text": [
      "**Socrata Foundation**: The Socrata Foundation is a 501(c)(3) organization that provides information about its philanthropic philosophy and mission. They describe their support for unique organizations that lack resources or financial means to fulfill their data-driven missions. They also mention the importance of open data in removing barriers to social justice and economic progress.\n",
      "\n",
      "**Robert Runge**: Robert Runge, a member of Socrata's Board of Directors, provides additional context about the Socrata Foundation's purpose and how it bridges the gap between publicly funded open data projects and underfunded or unfunded opportunities.\n",
      "\n",
      "**Mike Duggan**: Detroit Mayor Mike Duggan shares his perspective on why he turned to data-driven government in Detroit. He highlights the importance of transparency, accountability, and fact-based decision-making enabled by open data. He also explains how the Socrata Foundation helped Detroit gain access to the necessary technology and infrastructure.\n",
      "\n",
      "**Heat Seek NYC Founder William Jeffries**: Heat Seek NYC's founder, William Jeffries, provides insight into the organization's mission and goals. He emphasizes the importance of gathering data to protect tenants from unsafe living conditions and shares his vision for using this data to hold accountable those responsible for heating violations in New York City.\n",
      "\n",
      "Note: There are no other sources annotated besides these four (Socrata Foundation, Robert Runge, Mike Duggan, and William Jeffries).\n"
     ]
    }
   ],
   "source": [
    "print(r.json()['response'])"
   ]
  },
  {
   "cell_type": "code",
   "execution_count": null,
   "id": "d4663f71-4708-435f-a1bf-3cdff4b994b7",
   "metadata": {},
   "outputs": [],
   "source": []
  },
  {
   "cell_type": "code",
   "execution_count": null,
   "id": "c8141d3c-db08-4205-9e22-48b08db25e07",
   "metadata": {},
   "outputs": [],
   "source": []
  },
  {
   "cell_type": "code",
   "execution_count": null,
   "id": "918831a4-f609-4f7d-a36e-8abab527cfef",
   "metadata": {},
   "outputs": [],
   "source": []
  },
  {
   "cell_type": "code",
   "execution_count": null,
   "id": "d42e1ddc-20cb-4b43-b573-231f813b9c5e",
   "metadata": {},
   "outputs": [],
   "source": []
  },
  {
   "cell_type": "code",
   "execution_count": null,
   "id": "d7f20973-c1a7-422c-924d-4855b9fe8d63",
   "metadata": {},
   "outputs": [],
   "source": []
  },
  {
   "cell_type": "code",
   "execution_count": null,
   "id": "0c2abe74-47ae-49ca-a08c-c792ba120863",
   "metadata": {},
   "outputs": [],
   "source": []
  },
  {
   "cell_type": "code",
   "execution_count": null,
   "id": "ab063171-471b-49a6-a61b-ec5d0e4ba98a",
   "metadata": {},
   "outputs": [],
   "source": []
  },
  {
   "cell_type": "code",
   "execution_count": null,
   "id": "47adba74-fe9f-4435-9047-8798fc97593c",
   "metadata": {},
   "outputs": [],
   "source": []
  }
 ],
 "metadata": {
  "kernelspec": {
   "display_name": "Python 3 (ipykernel)",
   "language": "python",
   "name": "python3"
  },
  "language_info": {
   "codemirror_mode": {
    "name": "ipython",
    "version": 3
   },
   "file_extension": ".py",
   "mimetype": "text/x-python",
   "name": "python",
   "nbconvert_exporter": "python",
   "pygments_lexer": "ipython3",
   "version": "3.12.2"
  }
 },
 "nbformat": 4,
 "nbformat_minor": 5
}
